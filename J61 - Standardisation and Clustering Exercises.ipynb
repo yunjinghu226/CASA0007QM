{
  "cells": [
    {
      "metadata": {},
      "cell_type": "markdown",
      "source": "# Workbook 6.1 - Standardisation and Clustering Exercises"
    },
    {
      "metadata": {},
      "cell_type": "markdown",
      "source": "Use the following cell to import the pandas and numpy modules:"
    },
    {
      "metadata": {
        "trusted": true
      },
      "cell_type": "code",
      "source": "import pandas as pd\nimport numpy as np\nimport statistics as st",
      "execution_count": 5,
      "outputs": []
    },
    {
      "metadata": {},
      "cell_type": "markdown",
      "source": "**1.**\n\na) Import the file 'tremor_data.csv'.\n\nb) Display the first few rows.\n\nc) Set the time column as the index and store as a new dataframe.\n\nd) Sort the data by the size of the earthquakes, largest to smallest.\n\ne) Display the first few rows of the new dataframe."
    },
    {
      "metadata": {
        "trusted": true
      },
      "cell_type": "code",
      "source": "# 1a\ndf = pd.read_csv('tremor_data.csv')",
      "execution_count": 6,
      "outputs": []
    },
    {
      "metadata": {
        "trusted": true
      },
      "cell_type": "code",
      "source": "# 1b\ndf.head()",
      "execution_count": 7,
      "outputs": [
        {
          "output_type": "execute_result",
          "execution_count": 7,
          "data": {
            "text/html": "<div>\n<table border=\"1\" class=\"dataframe\">\n  <thead>\n    <tr style=\"text-align: right;\">\n      <th></th>\n      <th>Time (mins)</th>\n      <th>Distance (m)</th>\n      <th>Size (Moment Magnitude)</th>\n    </tr>\n  </thead>\n  <tbody>\n    <tr>\n      <th>0</th>\n      <td>14963</td>\n      <td>20518</td>\n      <td>3.0</td>\n    </tr>\n    <tr>\n      <th>1</th>\n      <td>15229</td>\n      <td>35321</td>\n      <td>1.8</td>\n    </tr>\n    <tr>\n      <th>2</th>\n      <td>17442</td>\n      <td>38120</td>\n      <td>1.9</td>\n    </tr>\n    <tr>\n      <th>3</th>\n      <td>17902</td>\n      <td>51661</td>\n      <td>2.0</td>\n    </tr>\n    <tr>\n      <th>4</th>\n      <td>18393</td>\n      <td>36197</td>\n      <td>1.7</td>\n    </tr>\n  </tbody>\n</table>\n</div>",
            "text/plain": "   Time (mins)  Distance (m)  Size (Moment Magnitude)\n0        14963         20518                      3.0\n1        15229         35321                      1.8\n2        17442         38120                      1.9\n3        17902         51661                      2.0\n4        18393         36197                      1.7"
          },
          "metadata": {}
        }
      ]
    },
    {
      "metadata": {
        "trusted": true
      },
      "cell_type": "code",
      "source": "# 1c\ndf2 = df.set_index('Time (mins)')\ndf2.head()",
      "execution_count": 8,
      "outputs": [
        {
          "output_type": "execute_result",
          "execution_count": 8,
          "data": {
            "text/html": "<div>\n<table border=\"1\" class=\"dataframe\">\n  <thead>\n    <tr style=\"text-align: right;\">\n      <th></th>\n      <th>Distance (m)</th>\n      <th>Size (Moment Magnitude)</th>\n    </tr>\n    <tr>\n      <th>Time (mins)</th>\n      <th></th>\n      <th></th>\n    </tr>\n  </thead>\n  <tbody>\n    <tr>\n      <th>14963</th>\n      <td>20518</td>\n      <td>3.0</td>\n    </tr>\n    <tr>\n      <th>15229</th>\n      <td>35321</td>\n      <td>1.8</td>\n    </tr>\n    <tr>\n      <th>17442</th>\n      <td>38120</td>\n      <td>1.9</td>\n    </tr>\n    <tr>\n      <th>17902</th>\n      <td>51661</td>\n      <td>2.0</td>\n    </tr>\n    <tr>\n      <th>18393</th>\n      <td>36197</td>\n      <td>1.7</td>\n    </tr>\n  </tbody>\n</table>\n</div>",
            "text/plain": "             Distance (m)  Size (Moment Magnitude)\nTime (mins)                                       \n14963               20518                      3.0\n15229               35321                      1.8\n17442               38120                      1.9\n17902               51661                      2.0\n18393               36197                      1.7"
          },
          "metadata": {}
        }
      ]
    },
    {
      "metadata": {
        "trusted": true
      },
      "cell_type": "code",
      "source": "# 1d\ndf_sorted = df2.sort_values('Size (Moment Magnitude)',ascending=False)",
      "execution_count": 10,
      "outputs": []
    },
    {
      "metadata": {
        "trusted": true
      },
      "cell_type": "code",
      "source": "# 1e\ndf_sorted.head()",
      "execution_count": 11,
      "outputs": [
        {
          "output_type": "execute_result",
          "execution_count": 11,
          "data": {
            "text/html": "<div>\n<table border=\"1\" class=\"dataframe\">\n  <thead>\n    <tr style=\"text-align: right;\">\n      <th></th>\n      <th>Distance (m)</th>\n      <th>Size (Moment Magnitude)</th>\n    </tr>\n    <tr>\n      <th>Time (mins)</th>\n      <th></th>\n      <th></th>\n    </tr>\n  </thead>\n  <tbody>\n    <tr>\n      <th>42834</th>\n      <td>53373</td>\n      <td>3.2</td>\n    </tr>\n    <tr>\n      <th>37059</th>\n      <td>69421</td>\n      <td>3.1</td>\n    </tr>\n    <tr>\n      <th>14963</th>\n      <td>20518</td>\n      <td>3.0</td>\n    </tr>\n    <tr>\n      <th>20679</th>\n      <td>6520</td>\n      <td>2.9</td>\n    </tr>\n    <tr>\n      <th>21641</th>\n      <td>21397</td>\n      <td>2.9</td>\n    </tr>\n  </tbody>\n</table>\n</div>",
            "text/plain": "             Distance (m)  Size (Moment Magnitude)\nTime (mins)                                       \n42834               53373                      3.2\n37059               69421                      3.1\n14963               20518                      3.0\n20679                6520                      2.9\n21641               21397                      2.9"
          },
          "metadata": {}
        }
      ]
    },
    {
      "metadata": {},
      "cell_type": "markdown",
      "source": "**2.**\n\nReturning to the original dataframe, create new columns containing standardised versions of each of the variables and add these to the dataframe.\n\nSave this dataframe as 'new_tremor_data.csv'."
    },
    {
      "metadata": {
        "trusted": true
      },
      "cell_type": "code",
      "source": "# standardised data z = (x-mean)/stdev\n# loop through the numbers in each column, calculate the z, store to new series, append to the dataframe\nfor col in [1,2,3]:\n    sd = []\n    for x in df.iloc[:,col]:\n        z = (x-st.mean(df.iloc[:,col])/np.std(df.iloc[:,col]))\n        sd.append(z)\n    df[str(col)] = pd.Series(sd)\ndf.rename(columns={'1':'sd_time','2':'sd_dist','3':'sd_size'},inplace=True)\ndf.to_csv('new_tremor_data.csv')",
      "execution_count": 23,
      "outputs": []
    },
    {
      "metadata": {
        "trusted": true
      },
      "cell_type": "code",
      "source": "df.head()",
      "execution_count": 24,
      "outputs": [
        {
          "output_type": "execute_result",
          "execution_count": 24,
          "data": {
            "text/html": "<div>\n<table border=\"1\" class=\"dataframe\">\n  <thead>\n    <tr style=\"text-align: right;\">\n      <th></th>\n      <th>Time (mins)</th>\n      <th>Distance (m)</th>\n      <th>Size (Moment Magnitude)</th>\n      <th>sd_time</th>\n      <th>sd_dist</th>\n      <th>sd_size</th>\n    </tr>\n  </thead>\n  <tbody>\n    <tr>\n      <th>0</th>\n      <td>14963</td>\n      <td>20518</td>\n      <td>3.0</td>\n      <td>20515.622018</td>\n      <td>-3.43791</td>\n      <td>20513.244196</td>\n    </tr>\n    <tr>\n      <th>1</th>\n      <td>15229</td>\n      <td>35321</td>\n      <td>1.8</td>\n      <td>35318.622018</td>\n      <td>-4.63791</td>\n      <td>35316.244196</td>\n    </tr>\n    <tr>\n      <th>2</th>\n      <td>17442</td>\n      <td>38120</td>\n      <td>1.9</td>\n      <td>38117.622018</td>\n      <td>-4.53791</td>\n      <td>38115.244196</td>\n    </tr>\n    <tr>\n      <th>3</th>\n      <td>17902</td>\n      <td>51661</td>\n      <td>2.0</td>\n      <td>51658.622018</td>\n      <td>-4.43791</td>\n      <td>51656.244196</td>\n    </tr>\n    <tr>\n      <th>4</th>\n      <td>18393</td>\n      <td>36197</td>\n      <td>1.7</td>\n      <td>36194.622018</td>\n      <td>-4.73791</td>\n      <td>36192.244196</td>\n    </tr>\n  </tbody>\n</table>\n</div>",
            "text/plain": "   Time (mins)  Distance (m)  Size (Moment Magnitude)       sd_time  sd_dist  \\\n0        14963         20518                      3.0  20515.622018 -3.43791   \n1        15229         35321                      1.8  35318.622018 -4.63791   \n2        17442         38120                      1.9  38117.622018 -4.53791   \n3        17902         51661                      2.0  51658.622018 -4.43791   \n4        18393         36197                      1.7  36194.622018 -4.73791   \n\n        sd_size  \n0  20513.244196  \n1  35316.244196  \n2  38115.244196  \n3  51656.244196  \n4  36192.244196  "
          },
          "metadata": {}
        }
      ]
    },
    {
      "metadata": {},
      "cell_type": "markdown",
      "source": "## Clustering\n\nThe remainder of these exercises involve performing various cluster analysis on the tremors data, using all three dimensions: time, distance and magnitude."
    },
    {
      "metadata": {},
      "cell_type": "markdown",
      "source": "### k-means clustering"
    },
    {
      "metadata": {
        "trusted": false
      },
      "cell_type": "code",
      "source": "# Import the following packages:\n\nimport numpy as np\nimport sklearn.cluster as sklc\n\n# Let's put some example data in.\n# Note that the points have to be ROWS:\n\nmy_data = np.array([[3,4,1],\n                    [2,8,8],\n                    [2,7,8],\n                    [3,2,2],\n                    [1,9,7],\n                    [4,3,3],\n                    [3,9,8],\n                    [3,8,8],\n                    [3,3,3],\n                    [15,14,0],\n                    [1,7,8],\n                    [16,14,1],\n                    [5,4,3],\n                    [14,15,0]])\n\n# The next line performs the clustering.\n# Note that you can choose the number of clusters (n_clusters) and the number of repetitions of the algorithm (n_init).\n# The output (stored to kmeans_output here) is a special object which contains all the information about the clustering.\nkmeans_output = sklc.KMeans(n_clusters=3, n_init=1).fit(my_data)\n\n# These next lines give you:\n\n# A list giving the final cluster number of each point:\nclustering_ids_kmeans = kmeans_output.labels_\n\n# The SSE of the clustering:\nclustering_sse        = kmeans_output.inertia_\n\n# A list of the centroids, ordered by cluster number:\nclustering_centroids  = kmeans_output.cluster_centers_\n\nprint(clustering_ids_kmeans)\nprint(clustering_sse)\nprint(clustering_centroids)",
      "execution_count": 114,
      "outputs": [
        {
          "name": "stdout",
          "output_type": "stream",
          "text": "[2 1 1 2 1 2 1 1 2 0 1 0 2 0]\n21.3666666667\n[[ 15.          14.33333333   0.33333333]\n [  2.           8.           7.83333333]\n [  3.6          3.2          2.4       ]]\n"
        }
      ]
    },
    {
      "metadata": {},
      "cell_type": "markdown",
      "source": "### hierarchical agglomerative clustering"
    },
    {
      "metadata": {
        "trusted": false
      },
      "cell_type": "code",
      "source": "# Import the following packages:\n\nimport numpy as np\nimport scipy.cluster.hierarchy as spch\n\n# Let's put some example data in.\n# Note that the points have to be ROWS:\n\nmy_data = np.array([[3,4,1],\n                    [2,8,8],\n                    [2,7,8],\n                    [3,2,2],\n                    [1,9,7],\n                    [4,3,3],\n                    [3,9,8],\n                    [3,8,8],\n                    [3,3,3],\n                    [15,14,0],\n                    [1,7,8],\n                    [16,14,1],\n                    [5,4,3],\n                    [14,15,0]])\n\n# Set the radius:\nr = 3\n\n# The next line performs the clustering.\n# \"criterion='distance'\" and \"method='single'\" just ensure that the method is as shown in the lecture. \n# The output is just the cluster_ids this time, since hierarchical clustering does not use centroids.\n\nclustering_ids_hierag = spch.fclusterdata(my_data, r, criterion='distance', method='single')\n\nprint(clustering_ids_hierag)",
      "execution_count": 115,
      "outputs": [
        {
          "name": "stdout",
          "output_type": "stream",
          "text": "[3 2 2 3 2 3 2 2 3 1 2 1 3 1]\n"
        }
      ]
    },
    {
      "metadata": {},
      "cell_type": "markdown",
      "source": "### Silhouette Scores"
    },
    {
      "metadata": {
        "trusted": false
      },
      "cell_type": "code",
      "source": "# Import the following package:\n\nimport sklearn.metrics as sklm\n\n# The next lines calculate the silhouette score for each clustering.\n# All that is required is the data and the the corresponding cluster ids:\n\nsilhouette_kmeans = sklm.silhouette_score(my_data,clustering_ids_kmeans)\nsilhouette_hierag = sklm.silhouette_score(my_data,clustering_ids_hierag)\n\nprint(silhouette_kmeans)\nprint(silhouette_hierag)",
      "execution_count": 116,
      "outputs": [
        {
          "name": "stdout",
          "output_type": "stream",
          "text": "0.780209595029\n0.780209595029\n"
        }
      ]
    },
    {
      "metadata": {},
      "cell_type": "markdown",
      "source": "### Dendrogram"
    },
    {
      "metadata": {
        "trusted": false
      },
      "cell_type": "code",
      "source": "# Import the following packages:\n\nimport matplotlib.pyplot as plt\nimport sklearn.metrics as sklm\nimport scipy.cluster.hierarchy as spch\n\n# The following lines create and display a dendrogram, saving it as a png:\nZ = spch.linkage(my_data, method='single', metric='euclidean')\nspch.dendrogram(Z,orientation='right')\nplt.show()\nplt.savefig('my_dendrogram.png')",
      "execution_count": 119,
      "outputs": [
        {
          "data": {
            "image/png": "[encoded data removed]",
            "text/plain": "<matplotlib.figure.Figure at 0x11ebf90f0>"
          },
          "metadata": {},
          "output_type": "display_data"
        }
      ]
    },
    {
      "metadata": {},
      "cell_type": "markdown",
      "source": "**6.** Perform a k-means clustering on the full (three-dimensional), standardised tremors data.\n\nThe clustering should be repeated 20 times to ensure a good solution is found *(this can be done in the kmeans function - see above)*.\n\nAdd the cluster ids of each point to the tremors dataframe."
    },
    {
      "metadata": {
        "collapsed": true,
        "trusted": false
      },
      "cell_type": "code",
      "source": "",
      "execution_count": null,
      "outputs": []
    },
    {
      "metadata": {},
      "cell_type": "markdown",
      "source": "**7.** Perform a k-means clustering on the tremors data for k (number of clusters) ranging from 1 to 20.\n\nCalculate the silhouette score for each clustering and store these values.\n\nPrint the optimal number of clusters based on the silhouette scores and store the cluster ids in this case.\n\nCreate a dataframe containing the results of this investigation. The index should be the number of clusters and the columns should contain the SSE and the silhouette score in each case."
    },
    {
      "metadata": {
        "collapsed": true,
        "trusted": false
      },
      "cell_type": "code",
      "source": "",
      "execution_count": null,
      "outputs": []
    },
    {
      "metadata": {},
      "cell_type": "markdown",
      "source": "**8.** Perform a hierarchical agglomerative clustering on the tremors data for r (radius) ranging over an appropriate range.\n\nCalculate the silhouette score for each clustering and store these values.\n\nPrint the optimal value of r based on the silhouette scores and store the cluster ids in this case.\n\nDisplay a dendrogram for the clustering."
    },
    {
      "metadata": {
        "collapsed": true,
        "trusted": false
      },
      "cell_type": "code",
      "source": "",
      "execution_count": null,
      "outputs": []
    },
    {
      "metadata": {},
      "cell_type": "markdown",
      "source": "**9.** Using the optimal clustering from either question 8 or 9, print summary statistics for each of the clusters (i.e. the mean, standard deviation, min and max of each variable).\n\n*[Hint: You could add the cluster ids to the dataframe, then use Boolean indexing to create a separate dataframe for each cluster.]*"
    },
    {
      "metadata": {
        "collapsed": true,
        "trusted": false
      },
      "cell_type": "code",
      "source": "",
      "execution_count": null,
      "outputs": []
    },
    {
      "metadata": {},
      "cell_type": "markdown",
      "source": "**10.** In your opinion, does hierarchical or k-means clustering provide a better model of this data?"
    },
    {
      "metadata": {
        "collapsed": true,
        "trusted": false
      },
      "cell_type": "code",
      "source": "",
      "execution_count": null,
      "outputs": []
    }
  ],
  "metadata": {
    "kernelspec": {
      "name": "python3",
      "display_name": "Python 3",
      "language": "python"
    },
    "language_info": {
      "mimetype": "text/x-python",
      "nbconvert_exporter": "python",
      "name": "python",
      "file_extension": ".py",
      "version": "3.5.4",
      "pygments_lexer": "ipython3",
      "codemirror_mode": {
        "version": 3,
        "name": "ipython"
      }
    }
  },
  "nbformat": 4,
  "nbformat_minor": 1
}