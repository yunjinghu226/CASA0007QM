{
 "cells": [
  {
   "cell_type": "markdown",
   "metadata": {},
   "source": [
    "## Correlation Game\n",
    "\n",
    "The following code generates random dots in a square.\n",
    "\n",
    "Partners take turns in filling 'X' and 'Y' in the second cell. \n",
    "\n",
    "Your job is to guess how well the data is correlated by Pearson's correlation coefficient.\n",
    "\n",
    "In each iteration :\n",
    "    1. Fill in 'X' and 'Y' in 'Code Cell 1'.\n",
    "    2. Run 'Code Cell 1' and observe the plot.\n",
    "    3. Each write down your guess for Pearson's correlation coefficient.\n",
    "    4. Run 'Code Cell 2' to get the actual value and write this down.\n",
    "    5. Now compare the difference between your guesses and actual score. The closest player gets a point.\n",
    "    6. Repeat steps 1-5 to play best of five rounds.\n",
    "    7. The partner with the most points wins."
   ]
  },
  {
   "cell_type": "markdown",
   "metadata": {},
   "source": [
    "Code Cell 0:"
   ]
  },
  {
   "cell_type": "code",
   "execution_count": null,
   "metadata": {
    "collapsed": false
   },
   "outputs": [],
   "source": [
    "import matplotlib.pyplot as plt\n",
    "import pandas as pd\n",
    "import scipy as sp\n",
    "\n",
    "import random as rn\n",
    "\n",
    "from scipy.stats.stats import pearsonr\n",
    "from scipy.stats.stats import spearmanr\n",
    "\n",
    "# This line makes the plots display directly in the notebook, rather than in a separate window\n",
    "%matplotlib inline"
   ]
  },
  {
   "cell_type": "markdown",
   "metadata": {},
   "source": [
    "Code Cell 1:"
   ]
  },
  {
   "cell_type": "code",
   "execution_count": null,
   "metadata": {
    "collapsed": false
   },
   "outputs": [],
   "source": [
    "# We create a two dimensional array of your chosen numbers. \n",
    "number_grid = pd.DataFrame()\n",
    "\n",
    "# RANDOMISING THE COORDINATES:\n",
    "\n",
    "# How many coordinates shall we generate...\n",
    "# ... and what should the max and min values be?\n",
    "\n",
    "number_of_coords = 5\n",
    "min_val = 0\n",
    "max_val = 100\n",
    "\n",
    "# Here I have generated the values using comprehensions.\n",
    "# I have used the rn.random function, which gives a (float) value between 0 and 1\n",
    "# You could also use rn.randint, as we saw last week.\n",
    "\n",
    "x_vals = [min_val + max_val*rn.random() for i in range(number_of_coords)]\n",
    "y_vals = [min_val + max_val*rn.random() for i in range(number_of_coords)]\n",
    "\n",
    "number_grid['X']= x_vals\n",
    "number_grid['Y']= y_vals\n",
    "\n",
    "number_grid.plot(x='X',y='Y',kind='scatter')"
   ]
  },
  {
   "cell_type": "code",
   "execution_count": null,
   "metadata": {
    "collapsed": false
   },
   "outputs": [],
   "source": [
    "# STORING GUESSES:\n",
    "\n",
    "number_of_players = 2 # This code would work for any number of players.\n",
    "\n",
    "guesses_DF = pd.DataFrame()\n",
    "\n",
    "player_guesses = [ 0.5 , 0.7] # Replace these with your own guesses.\n",
    "\n",
    "guesses_DF['Player'] = range(1,number_of_players + 1)\n",
    "guesses_DF['Guess'] = player_guesses\n",
    "\n",
    "guesses_DF"
   ]
  },
  {
   "cell_type": "markdown",
   "metadata": {},
   "source": [
    "Code Cell 2:"
   ]
  },
  {
   "cell_type": "code",
   "execution_count": null,
   "metadata": {
    "collapsed": false
   },
   "outputs": [],
   "source": [
    "Y = number_grid['Y']\n",
    "X = number_grid['X']\n",
    "\n",
    "# The following function computes the best fitting regression line and basic statistics.\n",
    "slope, intercept, r_value, p_value, std_err = sp.stats.linregress(X, Y) \n",
    "\n",
    "plt.plot(X,Y,'b.') # Plot the data.\n",
    "plt.plot(X, X*slope + intercept, 'r') # Plot the regression line. \n",
    "\n",
    "plt.xlim([min(X)-5,max(X)+5]) \n",
    "plt.ylim([min(Y)-5,max(Y)+5]) \n",
    "\n",
    "# SWITCH TO SPEARMAN:\n",
    "\n",
    "# We will need to store the correlation to check who has won:\n",
    "corr_coeff = spearmanr(X,Y)[0]\n",
    "\n",
    "print \"Spearman correlation : \", corr_coeff\n"
   ]
  },
  {
   "cell_type": "code",
   "execution_count": null,
   "metadata": {
    "collapsed": false
   },
   "outputs": [],
   "source": [
    "# CALCULATING THE DIFFERENCES\n",
    "\n",
    "# Add a column reporting the differences between guess and solution.\n",
    "\n",
    "guesses_DF['Difference'] = abs(guesses_DF['Guess'] - corr_coeff)\n",
    "\n",
    "# You could even sort the dataframe from best guess to worst:\n",
    "\n",
    "guesses_DF.sort(columns='Difference')\n"
   ]
  },
  {
   "cell_type": "markdown",
   "metadata": {},
   "source": [
    "## Exercise 2.1\n",
    "\n",
    "Adapt the code so that:\n",
    "\n",
    "a) The coordinates are randomised.\n",
    "\n",
    "b) Spearman's rank correlation coefficient is used instead of the Pearson coefficient."
   ]
  },
  {
   "cell_type": "markdown",
   "metadata": {},
   "source": [
    "## Exercise 2.2\n",
    "\n",
    "Adapt the code so that:\n",
    "\n",
    "a) You can type in your guesses to be stored by the program.\n",
    "\n",
    "b) The differences between each player's guess and the solution are calculated and displayed.\n",
    "\n",
    "___\n",
    "\n",
    "HINT:\n",
    "\n",
    "The function abs( ) returns the absolute value of a number.\n",
    "\n",
    "i.e. It gives the size of a number without considering + or -.\n",
    "\n",
    "e.g. abs(7) = 7, abs(-7) = 7\n",
    "\n",
    "abs( ) can be useful for getting the positive difference between two numbers.\n",
    "\n",
    "___\n"
   ]
  }
 ],
 "metadata": {
  "kernelspec": {
   "display_name": "Python 2",
   "language": "python",
   "name": "python2"
  },
  "language_info": {
   "codemirror_mode": {
    "name": "ipython",
    "version": 2
   },
   "file_extension": ".py",
   "mimetype": "text/x-python",
   "name": "python",
   "nbconvert_exporter": "python",
   "pygments_lexer": "ipython2",
   "version": "2.7.11"
  }
 },
 "nbformat": 4,
 "nbformat_minor": 0
}
