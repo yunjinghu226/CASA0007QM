{
 "cells": [
  {
   "cell_type": "markdown",
   "metadata": {},
   "source": [
    "## Hypothesis Testing - Toddler Mass Data"
   ]
  },
  {
   "cell_type": "code",
   "execution_count": 35,
   "metadata": {
    "collapsed": true
   },
   "outputs": [],
   "source": [
    "# import relevant packages\n",
    "\n",
    "import numpy as np\n",
    "import scipy.stats as sps\n",
    "import pandas as pd\n",
    "import matplotlib.pyplot as plt\n",
    "\n",
    "%matplotlib inline"
   ]
  },
  {
   "cell_type": "markdown",
   "metadata": {},
   "source": [
    "### Background\n",
    "\n",
    "Local authority introduces scheme to address child malnutrition.\n",
    "\n",
    "Data: weight (in kg) of four-year olds.\n",
    "\n",
    "Sample 1: 100 pre-intervention\n",
    "\n",
    "Sample 2: 100 post-intervention\n",
    "\n",
    "(Note: The two samples are of different children)"
   ]
  },
  {
   "cell_type": "code",
   "execution_count": 36,
   "metadata": {},
   "outputs": [
    {
     "data": {
      "text/html": [
       "<div>\n",
       "<style>\n",
       "    .dataframe thead tr:only-child th {\n",
       "        text-align: right;\n",
       "    }\n",
       "\n",
       "    .dataframe thead th {\n",
       "        text-align: left;\n",
       "    }\n",
       "\n",
       "    .dataframe tbody tr th {\n",
       "        vertical-align: top;\n",
       "    }\n",
       "</style>\n",
       "<table border=\"1\" class=\"dataframe\">\n",
       "  <thead>\n",
       "    <tr style=\"text-align: right;\">\n",
       "      <th></th>\n",
       "      <th>sample_1</th>\n",
       "      <th>sample_2</th>\n",
       "    </tr>\n",
       "  </thead>\n",
       "  <tbody>\n",
       "    <tr>\n",
       "      <th>0</th>\n",
       "      <td>13.4</td>\n",
       "      <td>14.2</td>\n",
       "    </tr>\n",
       "    <tr>\n",
       "      <th>1</th>\n",
       "      <td>13.9</td>\n",
       "      <td>13.1</td>\n",
       "    </tr>\n",
       "    <tr>\n",
       "      <th>2</th>\n",
       "      <td>13.9</td>\n",
       "      <td>15.3</td>\n",
       "    </tr>\n",
       "    <tr>\n",
       "      <th>3</th>\n",
       "      <td>14.7</td>\n",
       "      <td>13.6</td>\n",
       "    </tr>\n",
       "    <tr>\n",
       "      <th>4</th>\n",
       "      <td>14.8</td>\n",
       "      <td>14.4</td>\n",
       "    </tr>\n",
       "  </tbody>\n",
       "</table>\n",
       "</div>"
      ],
      "text/plain": [
       "   sample_1  sample_2\n",
       "0      13.4      14.2\n",
       "1      13.9      13.1\n",
       "2      13.9      15.3\n",
       "3      14.7      13.6\n",
       "4      14.8      14.4"
      ]
     },
     "execution_count": 36,
     "metadata": {},
     "output_type": "execute_result"
    }
   ],
   "source": [
    "# Get the data on the weights of 4-year-olds:\n",
    "data = pd.read_csv('toddler_data.csv')[['sample_1','sample_2']]\n",
    "\n",
    "# Look at the first few rows:\n",
    "data.head()"
   ]
  },
  {
   "cell_type": "code",
   "execution_count": 37,
   "metadata": {},
   "outputs": [
    {
     "data": {
      "text/html": [
       "<div>\n",
       "<style>\n",
       "    .dataframe thead tr:only-child th {\n",
       "        text-align: right;\n",
       "    }\n",
       "\n",
       "    .dataframe thead th {\n",
       "        text-align: left;\n",
       "    }\n",
       "\n",
       "    .dataframe tbody tr th {\n",
       "        vertical-align: top;\n",
       "    }\n",
       "</style>\n",
       "<table border=\"1\" class=\"dataframe\">\n",
       "  <thead>\n",
       "    <tr style=\"text-align: right;\">\n",
       "      <th></th>\n",
       "      <th>sample_1</th>\n",
       "      <th>sample_2</th>\n",
       "    </tr>\n",
       "  </thead>\n",
       "  <tbody>\n",
       "    <tr>\n",
       "      <th>count</th>\n",
       "      <td>100.000000</td>\n",
       "      <td>100.000000</td>\n",
       "    </tr>\n",
       "    <tr>\n",
       "      <th>mean</th>\n",
       "      <td>13.952000</td>\n",
       "      <td>14.304000</td>\n",
       "    </tr>\n",
       "    <tr>\n",
       "      <th>std</th>\n",
       "      <td>1.214931</td>\n",
       "      <td>1.249882</td>\n",
       "    </tr>\n",
       "    <tr>\n",
       "      <th>min</th>\n",
       "      <td>11.300000</td>\n",
       "      <td>10.700000</td>\n",
       "    </tr>\n",
       "    <tr>\n",
       "      <th>25%</th>\n",
       "      <td>13.175000</td>\n",
       "      <td>13.550000</td>\n",
       "    </tr>\n",
       "    <tr>\n",
       "      <th>50%</th>\n",
       "      <td>14.000000</td>\n",
       "      <td>14.200000</td>\n",
       "    </tr>\n",
       "    <tr>\n",
       "      <th>75%</th>\n",
       "      <td>14.800000</td>\n",
       "      <td>15.000000</td>\n",
       "    </tr>\n",
       "    <tr>\n",
       "      <th>max</th>\n",
       "      <td>16.900000</td>\n",
       "      <td>18.000000</td>\n",
       "    </tr>\n",
       "  </tbody>\n",
       "</table>\n",
       "</div>"
      ],
      "text/plain": [
       "         sample_1    sample_2\n",
       "count  100.000000  100.000000\n",
       "mean    13.952000   14.304000\n",
       "std      1.214931    1.249882\n",
       "min     11.300000   10.700000\n",
       "25%     13.175000   13.550000\n",
       "50%     14.000000   14.200000\n",
       "75%     14.800000   15.000000\n",
       "max     16.900000   18.000000"
      ]
     },
     "execution_count": 37,
     "metadata": {},
     "output_type": "execute_result"
    }
   ],
   "source": [
    "# For convenience...\n",
    "\n",
    "# Store each sample separately:\n",
    "data1 = data['sample_1']\n",
    "data2 = data['sample_2']\n",
    "\n",
    "# Store some useful values\n",
    "\n",
    "min1 = data1.min()\n",
    "min2 = data2.min()\n",
    "\n",
    "max1 = data1.max()\n",
    "max2 = data2.max()\n",
    "\n",
    "mean1 = data1.mean()\n",
    "mean2 = data2.mean()\n",
    "\n",
    "std1 = data1.std()\n",
    "std2 = data2.std()\n",
    "\n",
    "n1 = len(data1)\n",
    "n2 = len(data2)\n",
    "\n",
    "# And print some summary information:\n",
    "\n",
    "data.describe()"
   ]
  },
  {
   "cell_type": "code",
   "execution_count": 38,
   "metadata": {},
   "outputs": [
    {
     "data": {
      "text/plain": [
       "<matplotlib.axes._subplots.AxesSubplot at 0x1155d0860>"
      ]
     },
     "execution_count": 38,
     "metadata": {},
     "output_type": "execute_result"
    },
    {
     "data": {
      "image/png": "[encoded data removed]",
      "text/plain": [
       "<matplotlib.figure.Figure at 0x1154b4c88>"
      ]
     },
     "metadata": {},
     "output_type": "display_data"
    },
    {
     "data": {
      "image/png": "[encoded data removed]",
      "text/plain": [
       "<matplotlib.figure.Figure at 0x115596fd0>"
      ]
     },
     "metadata": {},
     "output_type": "display_data"
    }
   ],
   "source": [
    "# Visualise the distribution of the data (as histograms)\n",
    "\n",
    "# Set common x-limits for the histograms:\n",
    "# (using int() is a trick to round to the integer below)\n",
    "hist_min = int(min(min1,min2)) - 1\n",
    "hist_max = int(max(max1,max2)) + 2\n",
    "x_range = [hist_min, hist_max]\n",
    "\n",
    "# Set common y-limits for the histograms:\n",
    "y_range = [0.0,0.4]\n",
    "\n",
    "# Choose an appropriate number of columns for the histogram:\n",
    "# (This choice will give us columns of width 1)\n",
    "n_cols = hist_max - hist_min\n",
    "\n",
    "# Now create the plots:\n",
    "# (The plt.figure(x) functions create new plots preventing...\n",
    "# ... both histograms from being drawn on the same axes.)\n",
    "\n",
    "plt.figure(1)\n",
    "data['sample_1'].hist(range=x_range, bins=n_cols, normed=True)\n",
    "plt.ylim(y_range)\n",
    "\n",
    "plt.figure(2)\n",
    "plt.ylim(y_range)\n",
    "data['sample_2'].hist(range=x_range, bins=n_cols, normed=True)\n"
   ]
  },
  {
   "cell_type": "code",
   "execution_count": 39,
   "metadata": {
    "collapsed": true
   },
   "outputs": [],
   "source": [
    "# The distributions look roughly normal.\n",
    "# They do seem a little different, but could this be down to random chance?"
   ]
  },
  {
   "cell_type": "markdown",
   "metadata": {},
   "source": [
    "### Test 1 - Mean Comparison Test"
   ]
  },
  {
   "cell_type": "markdown",
   "metadata": {},
   "source": [
    "The two samples have different means, but let's test whether this could be down to random chance.\n",
    "\n",
    "Could they be drawn from populations with the same mean?\n",
    "\n",
    "(The sample sizes (100) are fairly large so the mean comparison test is valid.)"
   ]
  },
  {
   "cell_type": "markdown",
   "metadata": {},
   "source": [
    "Step 1"
   ]
  },
  {
   "cell_type": "code",
   "execution_count": 40,
   "metadata": {
    "collapsed": true
   },
   "outputs": [],
   "source": [
    "# H0: Mean of population 1 =  Mean of population 1\n",
    "# H1: Mean of population 1 <> Mean of population 1"
   ]
  },
  {
   "cell_type": "markdown",
   "metadata": {},
   "source": [
    "Step 2"
   ]
  },
  {
   "cell_type": "code",
   "execution_count": 41,
   "metadata": {
    "collapsed": true
   },
   "outputs": [],
   "source": [
    "# Set significance level:\n",
    "\n",
    "alpha = 0.05"
   ]
  },
  {
   "cell_type": "markdown",
   "metadata": {},
   "source": [
    "Step 3-4"
   ]
  },
  {
   "cell_type": "code",
   "execution_count": 42,
   "metadata": {},
   "outputs": [
    {
     "name": "stdout",
     "output_type": "stream",
     "text": [
      "std_ratio = 0.9720359813764003\n",
      "Can assume equal population standard deviations.\n"
     ]
    }
   ],
   "source": [
    "# There is a built-in scipy.stats function (ttest_ind) that does steps 3 and 4 for us.\n",
    "# We just need to know whether we can assume that the samples are drawn...\n",
    "# ... from populations with the same standard deviation or not.\n",
    "# (Provided neither standard deviation is double the other, this should be ok)\n",
    "\n",
    "std_ratio = std1/std2\n",
    "\n",
    "print(\"std_ratio =\", std_ratio)\n",
    "\n",
    "if std_ratio > 0.5 and std_ratio < 2:\n",
    "    print(\"Can assume equal population standard deviations.\")\n",
    "    equal_stds = True\n",
    "else:\n",
    "    print(\"Cannot assume equal population standard deviations.\")\n",
    "    equal_stds = False"
   ]
  },
  {
   "cell_type": "code",
   "execution_count": 43,
   "metadata": {},
   "outputs": [
    {
     "name": "stdout",
     "output_type": "stream",
     "text": [
      "p-value = 0.0447900566277\n"
     ]
    }
   ],
   "source": [
    "# Calculate the test statistic and the p-value:\n",
    "# (We don't actually need the test statistic, since it is only used to calculate the p-value anyway.)\n",
    "\n",
    "test_stat, p_value = sps.ttest_ind(data1, data2, equal_var = equal_stds)\n",
    "print(\"p-value =\", p_value)"
   ]
  },
  {
   "cell_type": "markdown",
   "metadata": {},
   "source": [
    "Step 5"
   ]
  },
  {
   "cell_type": "code",
   "execution_count": 44,
   "metadata": {
    "scrolled": true
   },
   "outputs": [
    {
     "name": "stdout",
     "output_type": "stream",
     "text": [
      "p-value < significance threshold.\n",
      "Reject H0. Accept H1.\n",
      "Conclude that samples are drawn from populations with different means.\n"
     ]
    }
   ],
   "source": [
    "# Reach a conclusion:\n",
    "\n",
    "if p_value < alpha:\n",
    "    print(\"p-value < significance threshold.\")\n",
    "    print(\"Reject H0. Accept H1.\")\n",
    "    print(\"Conclude that samples are drawn from populations with different means.\")\n",
    "elif p_value >= alpha:\n",
    "    print(\"p-value >= significance threshold.\")\n",
    "    print(\"No significant evidence to reject H0.\")\n",
    "    print(\"Assume samples are drawn from populations with the same mean.\")"
   ]
  },
  {
   "cell_type": "markdown",
   "metadata": {},
   "source": [
    "### Test 2 - KS Distribution Test"
   ]
  },
  {
   "cell_type": "markdown",
   "metadata": {},
   "source": [
    "What about the shape of the distributions?\n",
    "\n",
    "Could the visible difference in the distributions (see the histograms) be down to random chance?\n",
    "\n",
    "(The data is continuous, so the KS test is valid.)"
   ]
  },
  {
   "cell_type": "markdown",
   "metadata": {},
   "source": [
    "Step 1"
   ]
  },
  {
   "cell_type": "code",
   "execution_count": 45,
   "metadata": {
    "collapsed": true
   },
   "outputs": [],
   "source": [
    "# H0: Sample 1 and Sample 2 are drawn from identical distributions.\n",
    "# H1: Sample 1 and Sample 2 are not drawn from identical distributions."
   ]
  },
  {
   "cell_type": "markdown",
   "metadata": {},
   "source": [
    "Step 2"
   ]
  },
  {
   "cell_type": "code",
   "execution_count": 46,
   "metadata": {
    "collapsed": true
   },
   "outputs": [],
   "source": [
    "# Set significance level:\n",
    "\n",
    "alpha = 0.05"
   ]
  },
  {
   "cell_type": "markdown",
   "metadata": {},
   "source": [
    "Step 3-4"
   ]
  },
  {
   "cell_type": "code",
   "execution_count": 47,
   "metadata": {},
   "outputs": [
    {
     "name": "stdout",
     "output_type": "stream",
     "text": [
      "KS stat = 0.13\n",
      "p-value = 0.343885712222\n"
     ]
    }
   ],
   "source": [
    "# There is a built-in scipy.stats function (ks_2samp) that does steps 3 and 4 for us:\n",
    "\n",
    "KS_stat, p_value = sps.ks_2samp(data1,data2)\n",
    "\n",
    "# Compare with the KS stat we calculated earlier:\n",
    "\n",
    "print(\"KS stat =\", KS_stat)\n",
    "print(\"p-value =\", p_value)"
   ]
  },
  {
   "cell_type": "markdown",
   "metadata": {},
   "source": [
    "Step 5"
   ]
  },
  {
   "cell_type": "code",
   "execution_count": 48,
   "metadata": {},
   "outputs": [
    {
     "name": "stdout",
     "output_type": "stream",
     "text": [
      "p-value >= significance threshold.\n",
      "No significant evidence to reject H0.\n",
      "Assume samples are drawn from populations with the same distribution.\n"
     ]
    }
   ],
   "source": [
    "# Reach a conclusion:\n",
    "\n",
    "if p_value < alpha:\n",
    "    print(\"p-value < significance threshold.\")\n",
    "    print(\"Reject H0. Accept H1.\")\n",
    "    print(\"Conclude that samples are drawn from populations with different distributions.\")\n",
    "elif p_value >= alpha:\n",
    "    print(\"p-value >= significance threshold.\")\n",
    "    print(\"No significant evidence to reject H0.\")\n",
    "    print(\"Assume samples are drawn from populations with the same distribution.\")"
   ]
  },
  {
   "cell_type": "code",
   "execution_count": null,
   "metadata": {
    "collapsed": true
   },
   "outputs": [],
   "source": []
  }
 ],
 "metadata": {
  "kernelspec": {
   "display_name": "Python 3",
   "language": "python",
   "name": "python3"
  },
  "language_info": {
   "codemirror_mode": {
    "name": "ipython",
    "version": 3
   },
   "file_extension": ".py",
   "mimetype": "text/x-python",
   "name": "python",
   "nbconvert_exporter": "python",
   "pygments_lexer": "ipython3",
   "version": "3.6.1"
  }
 },
 "nbformat": 4,
 "nbformat_minor": 1
}
