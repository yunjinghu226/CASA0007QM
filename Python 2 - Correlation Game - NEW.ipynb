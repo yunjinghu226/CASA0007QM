{
 "cells": [
  {
   "cell_type": "markdown",
   "metadata": {},
   "source": [
    "## Correlation Game\n",
    "\n",
    "The following code generates random dots in a square.\n",
    "\n",
    "Partners take turns in filling 'X' and 'Y' in the second cell. \n",
    "\n",
    "Your job is to guess how well the data is correlated by Pearson's correlation coefficient.\n",
    "\n",
    "In each iteration :\n",
    "    1. Fill in 'X' and 'Y' in 'Code Cell 1'.\n",
    "    2. Run 'Code Cell 1' and observe the plot.\n",
    "    3. Each write down your guess for Pearson's correlation coefficient.\n",
    "    4. Run 'Code Cell 2' to get the actual value and write this down.\n",
    "    5. Now compare the difference between your guesses and actual score. The closest player gets a point.\n",
    "    6. Repeat steps 1-5 to play best of five rounds.\n",
    "    7. The partner with the most points wins."
   ]
  },
  {
   "cell_type": "markdown",
   "metadata": {},
   "source": [
    "Code Cell 0:"
   ]
  },
  {
   "cell_type": "code",
   "execution_count": 1,
   "metadata": {},
   "outputs": [],
   "source": [
    "import matplotlib.pyplot as plt\n",
    "import pandas as pd\n",
    "import scipy as sp\n",
    "\n",
    "import random as rn\n",
    "\n",
    "from scipy.stats.stats import pearsonr\n",
    "from scipy.stats.stats import spearmanr\n",
    "\n",
    "# This line makes the plots display directly in the notebook, rather than in a separate window\n",
    "%matplotlib inline"
   ]
  },
  {
   "cell_type": "markdown",
   "metadata": {},
   "source": [
    "Code Cell 1:"
   ]
  },
  {
   "cell_type": "code",
   "execution_count": 2,
   "metadata": {},
   "outputs": [
    {
     "data": {
      "image/png": "[encoded data removed]",
      "text/plain": [
       "<matplotlib.figure.Figure at 0x103e16d10>"
      ]
     },
     "metadata": {},
     "output_type": "display_data"
    }
   ],
   "source": [
    "# We create a two dimensional array of your chosen numbers. \n",
    "number_grid = pd.DataFrame()\n",
    "\n",
    "number_grid['X']= [20,15,5,-2,42]\n",
    "number_grid['Y']= [17,12,13,2,22]\n",
    "\n",
    "number_grid.plot(x='X',y='Y',kind='scatter')\n",
    "\n",
    "plt.show()"
   ]
  },
  {
   "cell_type": "markdown",
   "metadata": {},
   "source": [
    "Code Cell 2:"
   ]
  },
  {
   "cell_type": "code",
   "execution_count": 3,
   "metadata": {},
   "outputs": [
    {
     "name": "stdout",
     "output_type": "stream",
     "text": [
      "Pearson correlation :  0.899811524443\n"
     ]
    },
    {
     "data": {
      "image/png": "[encoded data removed]",
      "text/plain": [
       "<matplotlib.figure.Figure at 0x111eb5510>"
      ]
     },
     "metadata": {},
     "output_type": "display_data"
    }
   ],
   "source": [
    "Y = number_grid['Y']\n",
    "X = number_grid['X']\n",
    "\n",
    "# The following function computes the best fitting regression line and basic statistics.\n",
    "slope, intercept, r_value, p_value, std_err = sp.stats.linregress(X, Y) \n",
    "\n",
    "plt.plot(X,Y,'b.') # Plot the data.\n",
    "plt.plot(X, X*slope + intercept, 'r') # Plot the regression line. \n",
    "\n",
    "plt.xlim([min(X)-5,max(X)+5]) \n",
    "plt.ylim([min(Y)-5,max(Y)+5]) \n",
    "\n",
    "corr_coeff = pearsonr(X,Y)[0]\n",
    "\n",
    "print \"Pearson correlation : \", corr_coeff"
   ]
  },
  {
   "cell_type": "markdown",
   "metadata": {},
   "source": [
    "## Exercise 2.1\n",
    "\n",
    "Adapt the code so that:\n",
    "\n",
    "a) The coordinates are randomised.\n",
    "\n",
    "b) Spearman's rank correlation coefficient is used instead of the Pearson coefficient."
   ]
  },
  {
   "cell_type": "markdown",
   "metadata": {},
   "source": [
    "## Exercise 2.2\n",
    "\n",
    "Adapt the code so that:\n",
    "\n",
    "a) You can type in your guesses to be stored by the program.\n",
    "\n",
    "b) The differences between each player's guess and the solution are calculated and displayed.\n",
    "\n",
    "___\n",
    "\n",
    "HINT:\n",
    "\n",
    "The function abs( ) returns the absolute value of a number.\n",
    "\n",
    "i.e. It gives the size of a number without considering + or -.\n",
    "\n",
    "e.g. abs(7) = 7, abs(-7) = 7\n",
    "\n",
    "abs( ) can be useful for getting the positive difference between two numbers.\n",
    "\n",
    "___\n"
   ]
  }
 ],
 "metadata": {
  "kernelspec": {
   "display_name": "Python 3",
   "language": "python",
   "name": "python3"
  },
  "language_info": {
   "codemirror_mode": {
    "name": "ipython",
    "version": 3
   },
   "file_extension": ".py",
   "mimetype": "text/x-python",
   "name": "python",
   "nbconvert_exporter": "python",
   "pygments_lexer": "ipython3",
   "version": "3.6.1"
  }
 },
 "nbformat": 4,
 "nbformat_minor": 1
}
